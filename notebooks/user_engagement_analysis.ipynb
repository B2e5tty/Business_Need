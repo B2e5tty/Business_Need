{
 "cells": [
  {
   "cell_type": "markdown",
   "metadata": {},
   "source": [
    "# Task 2: User Engagement Analysis\n",
    "\n",
    "Here the analysis focus on getting insights on the engagement of the customers by focusing on network metrics.\n",
    "\n",
    "Task 2.1 \n",
    "- Aggregate the above metrics per customer id (MSISDN) and report the top 10 customers per engagement metric \n",
    "- Normalize each engagement metric and run a k-means (k=3) to classify customers in three groups of engagement. \n",
    "- Compute the minimum, maximum, average & total non-normalized metrics for each cluster. Interpret your results visually with accompanying text explaining your findings.\n",
    "- Aggregate user total traffic per application and derive the top 10 most engaged users per application\n",
    "- Plot the top 3 most used applications using appropriate charts.  \n",
    "- Using k-means clustering algorithm, group users in k engagement clusters based on the engagement metrics: \n",
    "    - What is the optimized value of k (use elbow method for this)?  \n",
    "    - Interpret findings. \n",
    "\n"
   ]
  },
  {
   "cell_type": "code",
   "execution_count": 1,
   "metadata": {},
   "outputs": [],
   "source": [
    "import os\n",
    "import sys\n",
    "\n",
    "# path of the module files\n",
    "sys.path.append(os.path.abspath(os.path.join('..', 'src')))\n",
    "from utils import *\n",
    "from load_db import load_data_from_postgres\n",
    "\n",
    "import pandas as pd\n",
    "import numpy as np\n",
    "import matplotlib.pyplot as plt\n",
    "import seaborn as sns\n",
    "from sklearn.preprocessing import StandardScaler\n",
    "from sklearn.decomposition import PCA\n",
    "from sklearn.cluster import KMeans\n",
    "\n",
    "import warnings\n",
    "warnings.filterwarnings('ignore')"
   ]
  },
  {
   "cell_type": "code",
   "execution_count": 2,
   "metadata": {},
   "outputs": [
    {
     "name": "stdout",
     "output_type": "stream",
     "text": [
      "Successfully loaded the data\n"
     ]
    }
   ],
   "source": [
    "# Define your SQL query\n",
    "query = \"SELECT * FROM xdr_data\"  # Replace with your actual table name\n",
    "\n",
    "# Load data from PostgreSQL\n",
    "df = load_data_from_postgres(query)\n",
    "\n",
    "# Display the first few rows of the dataframe\n",
    "if df is not None:\n",
    "    print(\"Successfully loaded the data\")\n",
    "else:\n",
    "    print(\"Failed to load data.\")\n"
   ]
  },
  {
   "cell_type": "code",
   "execution_count": 3,
   "metadata": {},
   "outputs": [
    {
     "name": "stdout",
     "output_type": "stream",
     "text": [
      "(150001, 55)\n"
     ]
    },
    {
     "data": {
      "text/html": [
       "<div>\n",
       "<style scoped>\n",
       "    .dataframe tbody tr th:only-of-type {\n",
       "        vertical-align: middle;\n",
       "    }\n",
       "\n",
       "    .dataframe tbody tr th {\n",
       "        vertical-align: top;\n",
       "    }\n",
       "\n",
       "    .dataframe thead th {\n",
       "        text-align: right;\n",
       "    }\n",
       "</style>\n",
       "<table border=\"1\" class=\"dataframe\">\n",
       "  <thead>\n",
       "    <tr style=\"text-align: right;\">\n",
       "      <th></th>\n",
       "      <th>Bearer Id</th>\n",
       "      <th>Start</th>\n",
       "      <th>Start ms</th>\n",
       "      <th>End</th>\n",
       "      <th>End ms</th>\n",
       "      <th>Dur. (ms)</th>\n",
       "      <th>IMSI</th>\n",
       "      <th>MSISDN/Number</th>\n",
       "      <th>IMEI</th>\n",
       "      <th>Last Location Name</th>\n",
       "      <th>...</th>\n",
       "      <th>Youtube DL (Bytes)</th>\n",
       "      <th>Youtube UL (Bytes)</th>\n",
       "      <th>Netflix DL (Bytes)</th>\n",
       "      <th>Netflix UL (Bytes)</th>\n",
       "      <th>Gaming DL (Bytes)</th>\n",
       "      <th>Gaming UL (Bytes)</th>\n",
       "      <th>Other DL (Bytes)</th>\n",
       "      <th>Other UL (Bytes)</th>\n",
       "      <th>Total UL (Bytes)</th>\n",
       "      <th>Total DL (Bytes)</th>\n",
       "    </tr>\n",
       "  </thead>\n",
       "  <tbody>\n",
       "    <tr>\n",
       "      <th>0</th>\n",
       "      <td>1.311448e+19</td>\n",
       "      <td>4/4/2019 12:01</td>\n",
       "      <td>770.0</td>\n",
       "      <td>4/25/2019 14:35</td>\n",
       "      <td>662.0</td>\n",
       "      <td>1823652.0</td>\n",
       "      <td>2.082014e+14</td>\n",
       "      <td>3.366496e+10</td>\n",
       "      <td>3.552121e+13</td>\n",
       "      <td>9.16456699548519E+015</td>\n",
       "      <td>...</td>\n",
       "      <td>15854611.0</td>\n",
       "      <td>2501332.0</td>\n",
       "      <td>8198936.0</td>\n",
       "      <td>9656251.0</td>\n",
       "      <td>278082303.0</td>\n",
       "      <td>14344150.0</td>\n",
       "      <td>171744450.0</td>\n",
       "      <td>8814393.0</td>\n",
       "      <td>36749741.0</td>\n",
       "      <td>308879636.0</td>\n",
       "    </tr>\n",
       "    <tr>\n",
       "      <th>1</th>\n",
       "      <td>1.311448e+19</td>\n",
       "      <td>4/9/2019 13:04</td>\n",
       "      <td>235.0</td>\n",
       "      <td>4/25/2019 8:15</td>\n",
       "      <td>606.0</td>\n",
       "      <td>1365104.0</td>\n",
       "      <td>2.082019e+14</td>\n",
       "      <td>3.368185e+10</td>\n",
       "      <td>3.579401e+13</td>\n",
       "      <td>L77566A</td>\n",
       "      <td>...</td>\n",
       "      <td>20247395.0</td>\n",
       "      <td>19111729.0</td>\n",
       "      <td>18338413.0</td>\n",
       "      <td>17227132.0</td>\n",
       "      <td>608750074.0</td>\n",
       "      <td>1170709.0</td>\n",
       "      <td>526904238.0</td>\n",
       "      <td>15055145.0</td>\n",
       "      <td>53800391.0</td>\n",
       "      <td>653384965.0</td>\n",
       "    </tr>\n",
       "    <tr>\n",
       "      <th>2</th>\n",
       "      <td>1.311448e+19</td>\n",
       "      <td>4/9/2019 17:42</td>\n",
       "      <td>1.0</td>\n",
       "      <td>4/25/2019 11:58</td>\n",
       "      <td>652.0</td>\n",
       "      <td>1361762.0</td>\n",
       "      <td>2.082003e+14</td>\n",
       "      <td>3.376063e+10</td>\n",
       "      <td>3.528151e+13</td>\n",
       "      <td>D42335A</td>\n",
       "      <td>...</td>\n",
       "      <td>19725661.0</td>\n",
       "      <td>14699576.0</td>\n",
       "      <td>17587794.0</td>\n",
       "      <td>6163408.0</td>\n",
       "      <td>229584621.0</td>\n",
       "      <td>395630.0</td>\n",
       "      <td>410692588.0</td>\n",
       "      <td>4215763.0</td>\n",
       "      <td>27883638.0</td>\n",
       "      <td>279807335.0</td>\n",
       "    </tr>\n",
       "  </tbody>\n",
       "</table>\n",
       "<p>3 rows × 55 columns</p>\n",
       "</div>"
      ],
      "text/plain": [
       "      Bearer Id           Start  Start ms              End  End ms  Dur. (ms)  \\\n",
       "0  1.311448e+19  4/4/2019 12:01     770.0  4/25/2019 14:35   662.0  1823652.0   \n",
       "1  1.311448e+19  4/9/2019 13:04     235.0   4/25/2019 8:15   606.0  1365104.0   \n",
       "2  1.311448e+19  4/9/2019 17:42       1.0  4/25/2019 11:58   652.0  1361762.0   \n",
       "\n",
       "           IMSI  MSISDN/Number          IMEI     Last Location Name  ...  \\\n",
       "0  2.082014e+14   3.366496e+10  3.552121e+13  9.16456699548519E+015  ...   \n",
       "1  2.082019e+14   3.368185e+10  3.579401e+13                L77566A  ...   \n",
       "2  2.082003e+14   3.376063e+10  3.528151e+13                D42335A  ...   \n",
       "\n",
       "   Youtube DL (Bytes)  Youtube UL (Bytes)  Netflix DL (Bytes)  \\\n",
       "0          15854611.0           2501332.0           8198936.0   \n",
       "1          20247395.0          19111729.0          18338413.0   \n",
       "2          19725661.0          14699576.0          17587794.0   \n",
       "\n",
       "   Netflix UL (Bytes)  Gaming DL (Bytes)  Gaming UL (Bytes)  Other DL (Bytes)  \\\n",
       "0           9656251.0        278082303.0         14344150.0       171744450.0   \n",
       "1          17227132.0        608750074.0          1170709.0       526904238.0   \n",
       "2           6163408.0        229584621.0           395630.0       410692588.0   \n",
       "\n",
       "   Other UL (Bytes)  Total UL (Bytes)  Total DL (Bytes)  \n",
       "0         8814393.0        36749741.0       308879636.0  \n",
       "1        15055145.0        53800391.0       653384965.0  \n",
       "2         4215763.0        27883638.0       279807335.0  \n",
       "\n",
       "[3 rows x 55 columns]"
      ]
     },
     "execution_count": 3,
     "metadata": {},
     "output_type": "execute_result"
    }
   ],
   "source": [
    "# describing the dataframe\n",
    "print(df.shape)\n",
    "df.head(3)"
   ]
  },
  {
   "cell_type": "code",
   "execution_count": 4,
   "metadata": {},
   "outputs": [
    {
     "name": "stdout",
     "output_type": "stream",
     "text": [
      "<class 'pandas.core.frame.DataFrame'>\n",
      "RangeIndex: 150001 entries, 0 to 150000\n",
      "Data columns (total 19 columns):\n",
      " #   Column                   Non-Null Count   Dtype  \n",
      "---  ------                   --------------   -----  \n",
      " 0   MSISDN/Number            148935 non-null  float64\n",
      " 1   Dur. (ms)                150000 non-null  float64\n",
      " 2   Social Media DL (Bytes)  150001 non-null  float64\n",
      " 3   Social Media UL (Bytes)  150001 non-null  float64\n",
      " 4   Youtube DL (Bytes)       150001 non-null  float64\n",
      " 5   Youtube UL (Bytes)       150001 non-null  float64\n",
      " 6   Netflix DL (Bytes)       150001 non-null  float64\n",
      " 7   Netflix UL (Bytes)       150001 non-null  float64\n",
      " 8   Google DL (Bytes)        150001 non-null  float64\n",
      " 9   Google UL (Bytes)        150001 non-null  float64\n",
      " 10  Email DL (Bytes)         150001 non-null  float64\n",
      " 11  Email UL (Bytes)         150001 non-null  float64\n",
      " 12  Gaming DL (Bytes)        150001 non-null  float64\n",
      " 13  Gaming UL (Bytes)        150001 non-null  float64\n",
      " 14  Other DL (Bytes)         150001 non-null  float64\n",
      " 15  Other UL (Bytes)         150001 non-null  float64\n",
      " 16  Total UL (Bytes)         150000 non-null  float64\n",
      " 17  Total DL (Bytes)         150000 non-null  float64\n",
      " 18  number_of_session        150001 non-null  int64  \n",
      "dtypes: float64(18), int64(1)\n",
      "memory usage: 21.7 MB\n"
     ]
    }
   ],
   "source": [
    "# Extracting main features for the analysis\n",
    "main_columns = df[['MSISDN/Number','Dur. (ms)','Social Media DL (Bytes)','Social Media UL (Bytes)','Youtube DL (Bytes)','Youtube UL (Bytes)','Netflix DL (Bytes)','Netflix UL (Bytes)','Google DL (Bytes)','Google UL (Bytes)','Email DL (Bytes)','Email UL (Bytes)','Gaming DL (Bytes)','Gaming UL (Bytes)','Other DL (Bytes)','Other UL (Bytes)','Total UL (Bytes)','Total DL (Bytes)']].copy()\n",
    "main_columns['number_of_session'] = 1   # to get the number of sessions of each users\n",
    "\n",
    "main_columns.info()"
   ]
  },
  {
   "cell_type": "code",
   "execution_count": 5,
   "metadata": {},
   "outputs": [
    {
     "data": {
      "text/html": [
       "<div>\n",
       "<style scoped>\n",
       "    .dataframe tbody tr th:only-of-type {\n",
       "        vertical-align: middle;\n",
       "    }\n",
       "\n",
       "    .dataframe tbody tr th {\n",
       "        vertical-align: top;\n",
       "    }\n",
       "\n",
       "    .dataframe thead th {\n",
       "        text-align: right;\n",
       "    }\n",
       "</style>\n",
       "<table border=\"1\" class=\"dataframe\">\n",
       "  <thead>\n",
       "    <tr style=\"text-align: right;\">\n",
       "      <th></th>\n",
       "      <th>MSISDN/Number</th>\n",
       "      <th>Dur. (ms)</th>\n",
       "      <th>Social Media DL (Bytes)</th>\n",
       "      <th>Social Media UL (Bytes)</th>\n",
       "      <th>Youtube DL (Bytes)</th>\n",
       "      <th>Youtube UL (Bytes)</th>\n",
       "      <th>Netflix DL (Bytes)</th>\n",
       "      <th>Netflix UL (Bytes)</th>\n",
       "      <th>Google DL (Bytes)</th>\n",
       "      <th>Google UL (Bytes)</th>\n",
       "      <th>Email DL (Bytes)</th>\n",
       "      <th>Email UL (Bytes)</th>\n",
       "      <th>Gaming DL (Bytes)</th>\n",
       "      <th>Gaming UL (Bytes)</th>\n",
       "      <th>Other DL (Bytes)</th>\n",
       "      <th>Other UL (Bytes)</th>\n",
       "      <th>Total UL (Bytes)</th>\n",
       "      <th>Total DL (Bytes)</th>\n",
       "      <th>number_of_session</th>\n",
       "      <th>Total Volume</th>\n",
       "    </tr>\n",
       "  </thead>\n",
       "  <tbody>\n",
       "    <tr>\n",
       "      <th>0</th>\n",
       "      <td>3197020876596.0</td>\n",
       "      <td>877385.0</td>\n",
       "      <td>668596.0</td>\n",
       "      <td>46628.0</td>\n",
       "      <td>9839889.0</td>\n",
       "      <td>2120016.0</td>\n",
       "      <td>10340908.0</td>\n",
       "      <td>16251392.0</td>\n",
       "      <td>8572779.0</td>\n",
       "      <td>1865881.0</td>\n",
       "      <td>842279.0</td>\n",
       "      <td>678492.0</td>\n",
       "      <td>164563605.0</td>\n",
       "      <td>13485133.0</td>\n",
       "      <td>467678100.0</td>\n",
       "      <td>2848373.0</td>\n",
       "      <td>37295915.0</td>\n",
       "      <td>194828056.0</td>\n",
       "      <td>1</td>\n",
       "      <td>232123971.0</td>\n",
       "    </tr>\n",
       "    <tr>\n",
       "      <th>1</th>\n",
       "      <td>33601001722.0</td>\n",
       "      <td>116720.0</td>\n",
       "      <td>2206504.0</td>\n",
       "      <td>25631.0</td>\n",
       "      <td>14900201.0</td>\n",
       "      <td>6724347.0</td>\n",
       "      <td>10265105.0</td>\n",
       "      <td>16915876.0</td>\n",
       "      <td>3337123.0</td>\n",
       "      <td>1051882.0</td>\n",
       "      <td>837400.0</td>\n",
       "      <td>493962.0</td>\n",
       "      <td>811091133.0</td>\n",
       "      <td>1367528.0</td>\n",
       "      <td>377096990.0</td>\n",
       "      <td>9473882.0</td>\n",
       "      <td>36053108.0</td>\n",
       "      <td>842637466.0</td>\n",
       "      <td>1</td>\n",
       "      <td>878690574.0</td>\n",
       "    </tr>\n",
       "    <tr>\n",
       "      <th>2</th>\n",
       "      <td>33601001754.0</td>\n",
       "      <td>181230.0</td>\n",
       "      <td>2598548.0</td>\n",
       "      <td>62017.0</td>\n",
       "      <td>5324251.0</td>\n",
       "      <td>7107972.0</td>\n",
       "      <td>770569.0</td>\n",
       "      <td>10451194.0</td>\n",
       "      <td>4197697.0</td>\n",
       "      <td>1137166.0</td>\n",
       "      <td>2828821.0</td>\n",
       "      <td>478960.0</td>\n",
       "      <td>105035298.0</td>\n",
       "      <td>14714780.0</td>\n",
       "      <td>279557701.0</td>\n",
       "      <td>2152370.0</td>\n",
       "      <td>36104459.0</td>\n",
       "      <td>120755184.0</td>\n",
       "      <td>1</td>\n",
       "      <td>156859643.0</td>\n",
       "    </tr>\n",
       "    <tr>\n",
       "      <th>3</th>\n",
       "      <td>33601002511.0</td>\n",
       "      <td>134969.0</td>\n",
       "      <td>3148004.0</td>\n",
       "      <td>47619.0</td>\n",
       "      <td>2137272.0</td>\n",
       "      <td>19196298.0</td>\n",
       "      <td>16525919.0</td>\n",
       "      <td>2827981.0</td>\n",
       "      <td>3343483.0</td>\n",
       "      <td>99643.0</td>\n",
       "      <td>2436500.0</td>\n",
       "      <td>768880.0</td>\n",
       "      <td>529068485.0</td>\n",
       "      <td>9759228.0</td>\n",
       "      <td>495086501.0</td>\n",
       "      <td>6607171.0</td>\n",
       "      <td>39306820.0</td>\n",
       "      <td>556659663.0</td>\n",
       "      <td>1</td>\n",
       "      <td>595966483.0</td>\n",
       "    </tr>\n",
       "    <tr>\n",
       "      <th>4</th>\n",
       "      <td>33601007832.0</td>\n",
       "      <td>49878.0</td>\n",
       "      <td>251469.0</td>\n",
       "      <td>28825.0</td>\n",
       "      <td>4393123.0</td>\n",
       "      <td>2584198.0</td>\n",
       "      <td>1157362.0</td>\n",
       "      <td>784730.0</td>\n",
       "      <td>5937765.0</td>\n",
       "      <td>3740728.0</td>\n",
       "      <td>2178618.0</td>\n",
       "      <td>106052.0</td>\n",
       "      <td>388074835.0</td>\n",
       "      <td>3051292.0</td>\n",
       "      <td>25248001.0</td>\n",
       "      <td>10031701.0</td>\n",
       "      <td>20327526.0</td>\n",
       "      <td>401993172.0</td>\n",
       "      <td>1</td>\n",
       "      <td>422320698.0</td>\n",
       "    </tr>\n",
       "  </tbody>\n",
       "</table>\n",
       "</div>"
      ],
      "text/plain": [
       "     MSISDN/Number  Dur. (ms)  Social Media DL (Bytes)  \\\n",
       "0  3197020876596.0   877385.0                 668596.0   \n",
       "1    33601001722.0   116720.0                2206504.0   \n",
       "2    33601001754.0   181230.0                2598548.0   \n",
       "3    33601002511.0   134969.0                3148004.0   \n",
       "4    33601007832.0    49878.0                 251469.0   \n",
       "\n",
       "   Social Media UL (Bytes)  Youtube DL (Bytes)  Youtube UL (Bytes)  \\\n",
       "0                  46628.0           9839889.0           2120016.0   \n",
       "1                  25631.0          14900201.0           6724347.0   \n",
       "2                  62017.0           5324251.0           7107972.0   \n",
       "3                  47619.0           2137272.0          19196298.0   \n",
       "4                  28825.0           4393123.0           2584198.0   \n",
       "\n",
       "   Netflix DL (Bytes)  Netflix UL (Bytes)  Google DL (Bytes)  \\\n",
       "0          10340908.0          16251392.0          8572779.0   \n",
       "1          10265105.0          16915876.0          3337123.0   \n",
       "2            770569.0          10451194.0          4197697.0   \n",
       "3          16525919.0           2827981.0          3343483.0   \n",
       "4           1157362.0            784730.0          5937765.0   \n",
       "\n",
       "   Google UL (Bytes)  Email DL (Bytes)  Email UL (Bytes)  Gaming DL (Bytes)  \\\n",
       "0          1865881.0          842279.0          678492.0        164563605.0   \n",
       "1          1051882.0          837400.0          493962.0        811091133.0   \n",
       "2          1137166.0         2828821.0          478960.0        105035298.0   \n",
       "3            99643.0         2436500.0          768880.0        529068485.0   \n",
       "4          3740728.0         2178618.0          106052.0        388074835.0   \n",
       "\n",
       "   Gaming UL (Bytes)  Other DL (Bytes)  Other UL (Bytes)  Total UL (Bytes)  \\\n",
       "0         13485133.0       467678100.0         2848373.0        37295915.0   \n",
       "1          1367528.0       377096990.0         9473882.0        36053108.0   \n",
       "2         14714780.0       279557701.0         2152370.0        36104459.0   \n",
       "3          9759228.0       495086501.0         6607171.0        39306820.0   \n",
       "4          3051292.0        25248001.0        10031701.0        20327526.0   \n",
       "\n",
       "   Total DL (Bytes)  number_of_session  Total Volume  \n",
       "0       194828056.0                  1   232123971.0  \n",
       "1       842637466.0                  1   878690574.0  \n",
       "2       120755184.0                  1   156859643.0  \n",
       "3       556659663.0                  1   595966483.0  \n",
       "4       401993172.0                  1   422320698.0  "
      ]
     },
     "execution_count": 5,
     "metadata": {},
     "output_type": "execute_result"
    }
   ],
   "source": [
    "# aggregate the dataframe per users\n",
    "main_columns['MSISDN/Number'] = main_columns['MSISDN/Number'].astype(str)    # to see if it aggregate on distinct customers properly\n",
    "\n",
    "# adding the total volume column and droping value length to prepare for the aggregated dataframe\n",
    "main_columns['Total Volume'] =  main_columns['Total UL (Bytes)'] + main_columns['Total DL (Bytes)'] \n",
    "\n",
    "# dataframe for user behavior\n",
    "user_behavior = main_columns.groupby('MSISDN/Number').sum().reset_index()\n",
    "user_behavior.head()"
   ]
  },
  {
   "cell_type": "code",
   "execution_count": 6,
   "metadata": {},
   "outputs": [],
   "source": [
    "# data cleaning and adding of new columns performed on task 1\n",
    "# segement customers into deciles\n",
    "user_behavior['decile_class'] = pd.qcut(user_behavior['Dur. (ms)'], 10, labels = False) + 1\n",
    "\n",
    "# duration second to mintues\n",
    "user_behavior['Dur. (min)'] = user_behavior['Dur. (ms)'].apply(lambda x: ms_to_mintue(x))\n",
    "\n",
    "# fixing outliers twice\n",
    "# fix outliers \n",
    "numerical_columns = user_behavior.select_dtypes(include=np.number).columns\n",
    "\n",
    "for i in range(2):\n",
    "    for num_col in numerical_columns:\n",
    "        user_behavior[num_col] = fix_outlier(user_behavior,num_col)\n",
    "\n",
    "# dataframe with only the engagement metrics \n",
    "user_engagement = user_behavior[['MSISDN/Number','Total Volume','number_of_session','Dur. (ms)']]\n",
    "\n",
    "\n",
    "# new dataframe with the DL and UL of each applications added\n",
    "total_traffic = create_dataframe_for_bivariate(user_behavior)"
   ]
  },
  {
   "cell_type": "code",
   "execution_count": 7,
   "metadata": {},
   "outputs": [
    {
     "name": "stdout",
     "output_type": "stream",
     "text": [
      "(106857, 4)\n",
      "<class 'pandas.core.frame.DataFrame'>\n",
      "RangeIndex: 106857 entries, 0 to 106856\n",
      "Data columns (total 4 columns):\n",
      " #   Column             Non-Null Count   Dtype  \n",
      "---  ------             --------------   -----  \n",
      " 0   MSISDN/Number      106857 non-null  object \n",
      " 1   Total Volume       106857 non-null  float64\n",
      " 2   number_of_session  106857 non-null  float64\n",
      " 3   Dur. (ms)          106857 non-null  float64\n",
      "dtypes: float64(3), object(1)\n",
      "memory usage: 3.3+ MB\n"
     ]
    }
   ],
   "source": [
    "# info on the customers engagement dataframe\n",
    "print(user_engagement.shape)\n",
    "user_engagement.info()"
   ]
  },
  {
   "cell_type": "code",
   "execution_count": 8,
   "metadata": {},
   "outputs": [
    {
     "name": "stdout",
     "output_type": "stream",
     "text": [
      "(106857, 10)\n",
      "<class 'pandas.core.frame.DataFrame'>\n",
      "RangeIndex: 106857 entries, 0 to 106856\n",
      "Data columns (total 10 columns):\n",
      " #   Column        Non-Null Count   Dtype  \n",
      "---  ------        --------------   -----  \n",
      " 0   Social Media  106857 non-null  float64\n",
      " 1   Youtube       106857 non-null  float64\n",
      " 2   Netflix       106857 non-null  float64\n",
      " 3   Google        106857 non-null  float64\n",
      " 4   Email         106857 non-null  float64\n",
      " 5   Gaming        106857 non-null  float64\n",
      " 6   Other         106857 non-null  float64\n",
      " 7   Total DL/UL   106857 non-null  float64\n",
      " 8   Dur. (ms)     106857 non-null  float64\n",
      " 9   Total Volume  106857 non-null  float64\n",
      "dtypes: float64(10)\n",
      "memory usage: 8.2 MB\n"
     ]
    }
   ],
   "source": [
    "# info on the total traffic dataframe\n",
    "print(total_traffic.shape)\n",
    "total_traffic.info()"
   ]
  },
  {
   "cell_type": "code",
   "execution_count": 9,
   "metadata": {},
   "outputs": [
    {
     "data": {
      "text/plain": [
       "7435      33616488083.0\n",
       "1195      33604075168.0\n",
       "80105     33683353317.0\n",
       "8369      33618062264.0\n",
       "41113     33660686946.0\n",
       "3485      33610234934.0\n",
       "31208     33658468739.0\n",
       "54325     33663877522.0\n",
       "100466    33763858920.0\n",
       "66232     33667528593.0\n",
       "Name: MSISDN/Number, dtype: object"
      ]
     },
     "execution_count": 9,
     "metadata": {},
     "output_type": "execute_result"
    }
   ],
   "source": [
    "# top 10 customers with highest total volumes \n",
    "user_engagement.sort_values(by=['Total Volume'], ascending = False)['MSISDN/Number'].head(10)"
   ]
  },
  {
   "cell_type": "code",
   "execution_count": 10,
   "metadata": {},
   "outputs": [
    {
     "data": {
      "text/plain": [
       "29725    33658159051.0\n",
       "70153    33668796072.0\n",
       "21027    33645636498.0\n",
       "21026    33645631916.0\n",
       "21025    33645630484.0\n",
       "46013    33661871820.0\n",
       "46014    33661871823.0\n",
       "70167    33668800028.0\n",
       "70166    33668799913.0\n",
       "21014    33645613674.0\n",
       "Name: MSISDN/Number, dtype: object"
      ]
     },
     "execution_count": 10,
     "metadata": {},
     "output_type": "execute_result"
    }
   ],
   "source": [
    "# top 10 customers with highest number of sessions(session frequency)\n",
    "user_engagement.sort_values(by=['number_of_session'], ascending = False)['MSISDN/Number'].head(10)"
   ]
  },
  {
   "cell_type": "code",
   "execution_count": 11,
   "metadata": {},
   "outputs": [
    {
     "data": {
      "text/plain": [
       "11286    33622707414.0\n",
       "9915     33620553481.0\n",
       "67047    33667778121.0\n",
       "59826    33665392228.0\n",
       "46775    33662034829.0\n",
       "72768    33669695338.0\n",
       "2221     33607946358.0\n",
       "50397    33662865678.0\n",
       "63335    33666575346.0\n",
       "60886    33665693436.0\n",
       "Name: MSISDN/Number, dtype: object"
      ]
     },
     "execution_count": 11,
     "metadata": {},
     "output_type": "execute_result"
    }
   ],
   "source": [
    "# top 10 customers with highest session duration\n",
    "user_engagement.sort_values(by=['Dur. (ms)'], ascending = False)['MSISDN/Number'].head(10)"
   ]
  },
  {
   "cell_type": "code",
   "execution_count": 12,
   "metadata": {},
   "outputs": [],
   "source": [
    "# users engagement classififcation using k-means\n",
    "scaler = StandardScaler()\n",
    "normalized_data = scaler.fit_transform(user_engagement.select_dtypes(np.number))\n",
    "\n",
    "kmeans = KMeans(n_clusters = 3, random_state = 42)\n",
    "user_engagement['engagement_classification'] = kmeans.fit_predict(normalized_data)"
   ]
  },
  {
   "cell_type": "code",
   "execution_count": 13,
   "metadata": {},
   "outputs": [
    {
     "data": {
      "image/png": "[encoded data removed]",
      "text/plain": [
       "<Figure size 1000x600 with 1 Axes>"
      ]
     },
     "metadata": {},
     "output_type": "display_data"
    }
   ],
   "source": [
    "# plot the number of customers per engagement group\n",
    "plt.figure(figsize=(10, 6))\n",
    "sns.countplot(x='engagement_classification', data=user_engagement)\n",
    "plt.title('Customer Engagement Groups')\n",
    "plt.xlabel('Engagement Group')\n",
    "plt.ylabel('Number of Customers')\n",
    "plt.show()"
   ]
  },
  {
   "cell_type": "code",
   "execution_count": 14,
   "metadata": {},
   "outputs": [
    {
     "name": "stdout",
     "output_type": "stream",
     "text": [
      "Engagement class: 2\n",
      "                       Maximum     Minimum         Total       Average\n",
      "Total Volume       578354950.0  33249009.0  1.134240e+13  2.900127e+08\n",
      "number_of_session          2.0         1.0  3.912900e+04  1.000486e+00\n",
      "Dur. (ms)             275587.0      7142.0  3.535883e+09  9.040866e+04 \n",
      "\n",
      "Engagement class: 0\n",
      "                        Maximum      Minimum         Total       Average\n",
      "Total Volume       1.282632e+09  348704234.0  3.268158e+13  7.056522e+08\n",
      "number_of_session  1.000000e+00          1.0  4.631400e+04  1.000000e+00\n",
      "Dur. (ms)          2.756690e+05       7146.0  5.082198e+09  1.097335e+05 \n",
      "\n",
      "Engagement class: 1\n",
      "                        Maximum      Minimum         Total       Average\n",
      "Total Volume       1.282700e+09  119768539.0  1.728411e+13  8.064253e+08\n",
      "number_of_session  2.000000e+00          2.0  4.286600e+04  2.000000e+00\n",
      "Dur. (ms)          2.756650e+05      18235.0  2.992389e+09  1.396160e+05 \n",
      "\n"
     ]
    }
   ],
   "source": [
    "# max,min, mean and total of engagemnt metric based on engagement classification\n",
    "engage_class = user_engagement['engagement_classification'].unique().tolist()\n",
    "\n",
    "for  i in engage_class:\n",
    "    print(f\"Engagement class: {i}\")\n",
    "    print(f\"{engagement_stats(user_engagement[user_engagement['engagement_classification'] == i])} \\n\")"
   ]
  },
  {
   "cell_type": "markdown",
   "metadata": {},
   "source": [
    "- From the plot, there are more group 0 or less engaged users in the dataset than the other group.\n",
    "\n",
    "- Class 0 users even though they are large in numbers they have larger total Total volume thus this user are engaged in the downloading or uploading activity more than the others. But the average duration they spent during sessions and average volume of DL/UL is lower than in Class 1.\n",
    "\n",
    "- In contrast, Class 1 have the lowest number of user although these customers have larger total Volume, spend more time, and contain the most frequent users than Class 0.\n",
    "\n",
    "- Class 0 customers have higher number than in Class 1 but they perfom less than the other two Class cutomers."
   ]
  },
  {
   "cell_type": "code",
   "execution_count": 15,
   "metadata": {},
   "outputs": [
    {
     "name": "stdout",
     "output_type": "stream",
     "text": [
      "The top ten customers of Social Media application\n",
      "['33635211255.0', '33675792506.0', '33663767746.0', '33661102628.0', '33760164786.0', '33610482093.0', '33665748361.0', '33666910163.0', '33662232758.0', '33659023655.0'] \n",
      "\n",
      "The top ten customers of Youtube application\n",
      "['33659733051.0', '33656813336.0', '33661814096.0', '33671484463.0', '33760153835.0', '33658899375.0', '33659558901.0', '33782323908.0', '33659269991.0', '33698684936.0'] \n",
      "\n",
      "The top ten customers of Netflix application\n",
      "['33621136479.0', '33658127937.0', '33659742624.0', '33699287663.0', '33680783737.0', '33761144147.0', '33620148989.0', '33760713370.0', '33650395850.0', '33664525495.0'] \n",
      "\n",
      "The top ten customers of Google application\n",
      "['33663750591.0', '33658267047.0', '33668999669.0', '33664466218.0', '33699344557.0', '33662107439.0', '33664849809.0', '33661041364.0', '33680159280.0', '33781096191.0'] \n",
      "\n",
      "The top ten customers of Email application\n",
      "['33658285182.0', '33659753265.0', '33658200991.0', '33661687518.0', '33617412938.0', '33761518404.0', '33660485999.0', '33761329688.0', '33663807107.0', '33667714216.0'] \n",
      "\n",
      "The top ten customers of Gaming application\n",
      "['33676032711.0', '33763450120.0', '33667637790.0', '33607097388.0', '33619481706.0', '33616921766.0', '33677097251.0', '33661922131.0', '33669710121.0', '33760245651.0'] \n",
      "\n",
      "The top ten customers of Other application\n",
      "['33661472766.0', '33615251377.0', '33658186104.0', '33635282500.0', '33615279656.0', '33663956186.0', '33681657507.0', '33604653620.0', '33667439506.0', '33781591798.0'] \n",
      "\n"
     ]
    }
   ],
   "source": [
    "# top ten customer engaged per application\n",
    "total_traffic['Customers'] = user_behavior['MSISDN/Number']\n",
    "engaged_users_per_application(total_traffic)"
   ]
  },
  {
   "cell_type": "code",
   "execution_count": 16,
   "metadata": {},
   "outputs": [
    {
     "data": {
      "image/png": "[encoded data removed]",
      "text/plain": [
       "<Figure size 640x480 with 1 Axes>"
      ]
     },
     "metadata": {},
     "output_type": "display_data"
    }
   ],
   "source": [
    "top_three_app = total_traffic[['Social Media','Youtube','Netflix','Google','Email','Gaming','Other']].sum().sort_values(ascending = False).head(3)\n",
    "X = top_three_app.index.tolist()\n",
    "y = top_three_app.values.tolist()\n",
    "plt.bar(X, y)\n",
    "plt.show()"
   ]
  },
  {
   "cell_type": "code",
   "execution_count": 17,
   "metadata": {},
   "outputs": [
    {
     "data": {
      "text/plain": [
       "Gaming     5.281963e+13\n",
       "Other      5.264434e+13\n",
       "Youtube    2.775631e+12\n",
       "dtype: float64"
      ]
     },
     "execution_count": 17,
     "metadata": {},
     "output_type": "execute_result"
    }
   ],
   "source": [
    "top_three_app "
   ]
  },
  {
   "cell_type": "markdown",
   "metadata": {},
   "source": [
    "> Most of the customers are engaged in Gaming application and others(which aren't specified)"
   ]
  },
  {
   "cell_type": "code",
   "execution_count": 18,
   "metadata": {},
   "outputs": [
    {
     "data": {
      "image/png": "[encoded data removed]",
      "text/plain": [
       "<Figure size 800x500 with 1 Axes>"
      ]
     },
     "metadata": {},
     "output_type": "display_data"
    }
   ],
   "source": [
    "# k-means and k values for optimization\n",
    "scaler = StandardScaler()\n",
    "scaled_data = scaler.fit_transform(user_engagement.select_dtypes(np.number))\n",
    "\n",
    "wcss = [] \n",
    "\n",
    "for k in range(1, 11):\n",
    "    kmeans = KMeans(n_clusters=k, init='k-means++', max_iter=300, n_init=10, random_state=0)\n",
    "    kmeans.fit(scaled_data)\n",
    "    wcss.append(kmeans.inertia_)  # Inertia gives the WCSS for the k clusters\n",
    "    \n",
    "# Plot the Elbow graph\n",
    "plt.figure(figsize=(8, 5))\n",
    "plt.plot(range(1, 11), wcss, marker='o', linestyle='--')\n",
    "plt.title('Elbow Method for Optimal K')\n",
    "plt.xlabel('Number of Clusters (k)')\n",
    "plt.ylabel('WCSS')\n",
    "plt.show()"
   ]
  },
  {
   "cell_type": "markdown",
   "metadata": {},
   "source": [
    "- The optimal number of clusters (k) is where the decrease in WCSS (Within-Cluster Sum of Squares) starts to level off. From the plot, this point seems to be around 3 clusters, as the steep drop occurs between 1 and 3, after which the rate of decrease becomes more gradual.Therefore engagement of users being classified into 3 in the above implementation has given a good insight.\n"
   ]
  },
  {
   "cell_type": "code",
   "execution_count": 19,
   "metadata": {},
   "outputs": [],
   "source": [
    "# export user engagement dataframe for task 4 analysis\n",
    "user_engagement.to_csv('engagement.csv',index = False)  "
   ]
  }
 ],
 "metadata": {
  "kernelspec": {
   "display_name": "base",
   "language": "python",
   "name": "python3"
  },
  "language_info": {
   "codemirror_mode": {
    "name": "ipython",
    "version": 3
   },
   "file_extension": ".py",
   "mimetype": "text/x-python",
   "name": "python",
   "nbconvert_exporter": "python",
   "pygments_lexer": "ipython3",
   "version": "3.11.5"
  }
 },
 "nbformat": 4,
 "nbformat_minor": 2
}
